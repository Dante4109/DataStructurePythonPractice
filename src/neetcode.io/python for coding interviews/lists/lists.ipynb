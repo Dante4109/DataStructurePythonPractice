{
 "cells": [
  {
   "cell_type": "code",
   "execution_count": null,
   "metadata": {},
   "outputs": [],
   "source": [
    "from typing import List"
   ]
  },
  {
   "cell_type": "code",
   "execution_count": null,
   "metadata": {},
   "outputs": [],
   "source": [
    "def append_elements(arr1: List[int], arr2: List[int]) -> List[int]:\n",
    "    for item in arr2:\n",
    "        arr1.append(item)\n",
    "    return arr1\n",
    "\n",
    "def pop_n(arr: List[int], n: int) -> List[int]:\n",
    "    if len(arr) < n:\n",
    "        arr = []\n",
    "    else:\n",
    "      for i in range(n):\n",
    "          arr.pop()\n",
    "    return arr\n",
    "\n",
    "def insert_at(arr: List[int], index: int, element: int) -> List[int]:\n",
    "    if index < 0 or index >= len(arr):\n",
    "        arr.append(element)\n",
    "    else:\n",
    "        arr.insert(index, element)\n",
    "    return arr\n",
    "    "
   ]
  },
  {
   "cell_type": "code",
   "execution_count": null,
   "metadata": {},
   "outputs": [],
   "source": [
    "# do not modify below this line\n",
    "print(append_elements([1, 2, 3], [4, 5, 6]))\n",
    "print(append_elements([4, 3], [4, 5, 3]))"
   ]
  },
  {
   "cell_type": "code",
   "execution_count": null,
   "metadata": {},
   "outputs": [],
   "source": [
    "print(pop_n([1, 2, 3, 4, 5], 2))\n",
    "print(pop_n([1, 2, 3, 4, 5], 6))\n",
    "print(pop_n([1, 2, 3, 4, 5], 5))"
   ]
  },
  {
   "cell_type": "code",
   "execution_count": null,
   "metadata": {},
   "outputs": [],
   "source": [
    "print(insert_at([1, 2, 3, 4, 5], 2, 6))\n",
    "print(insert_at([1, 2, 3, 4], 6, 5))"
   ]
  },
  {
   "cell_type": "code",
   "execution_count": null,
   "metadata": {},
   "outputs": [],
   "source": [
    "def append_elements(arr1: List[int], arr2: List[int]) -> List[int]:\n",
    "    arr1.extend(arr2)\n",
    "    return arr1\n",
    "  \n",
    "\n",
    "def remove_elements(arr1: List[int], arr2: List[int]) -> List[int]:\n",
    "    for item_to_remove in arr2:\n",
    "        if item_to_remove in arr1:\n",
    "            arr1.remove(item_to_remove)\n",
    "    return arr1"
   ]
  },
  {
   "cell_type": "code",
   "execution_count": null,
   "metadata": {},
   "outputs": [],
   "source": [
    "print(append_elements([1, 2, 3], [4, 5, 6]))\n",
    "print(append_elements([4, 3], [4, 5, 3]))"
   ]
  },
  {
   "cell_type": "code",
   "execution_count": null,
   "metadata": {},
   "outputs": [],
   "source": [
    "print(remove_elements([1, 2, 3, 4, 5], [2, 4, 6]))\n",
    "print(remove_elements([1, 2, 3, 4, 5], [2, 3, 4, 5, 5]))\n",
    "print(remove_elements([1, 7, 2, 3, 4, 5], [6, 7, 8, 2]))"
   ]
  },
  {
   "cell_type": "code",
   "execution_count": null,
   "metadata": {},
   "outputs": [],
   "source": [
    "def combine_elements(arr1: List[int], arr2: List[int]) -> List[int]:\n",
    "    return arr1 + arr2\n",
    "\n",
    "\n",
    "\n",
    "# do not modify below this line\n",
    "arr1 = [1, 3, 5]\n",
    "arr2 = [4, 6, 8]\n",
    "\n",
    "print(combine_elements(arr1, arr2))\n",
    "print(arr1)\n",
    "print(arr2)"
   ]
  },
  {
   "cell_type": "code",
   "execution_count": null,
   "metadata": {},
   "outputs": [],
   "source": [
    "def create_list_with_value(size: int, index: int, value: int) -> List[int]:\n",
    "    new_list = [0] * (size - 1)\n",
    "    new_list.insert(index, value)\n",
    "    return new_list\n",
    "\n",
    "    # Neet's solution\n",
    "    # arr = [0] * size\n",
    "    # arr[index] = value\n",
    "    # return arr\n",
    "\n",
    "# do not modify below this line\n",
    "print(create_list_with_value(5, 3, 7))\n",
    "print(create_list_with_value(1, 0, 5))\n",
    "print(create_list_with_value(10, 9, 9))\n",
    "print(create_list_with_value(10, 9, 0))"
   ]
  },
  {
   "cell_type": "code",
   "execution_count": 60,
   "metadata": {},
   "outputs": [
    {
     "name": "stdout",
     "output_type": "stream",
     "text": [
      "[1, 5, 7, 9]\n",
      "[1, 3, 5, 7, 9]\n",
      "[1, 3, 5, 7]\n",
      "[1, 3, 5, 7, 9]\n",
      "[3, 5, 7, 9]\n",
      "[1, 3, 5, 7, 9]\n"
     ]
    }
   ],
   "source": [
    "from typing import List\n",
    "\n",
    "\n",
    "def remove_element(arr: List[int], element: int) -> List[int]:\n",
    "    cloned_arr = arr.copy()\n",
    "    cloned_arr.remove(element)\n",
    "    return cloned_arr\n",
    "\n",
    "\n",
    "# do not modify below this line\n",
    "arr = [1, 3, 5, 7, 9]\n",
    "\n",
    "print(remove_element(arr, 3))\n",
    "print(arr)\n",
    "print(remove_element(arr, 9))\n",
    "print(arr)\n",
    "print(remove_element(arr, 1))\n",
    "print(arr)"
   ]
  }
 ],
 "metadata": {
  "kernelspec": {
   "display_name": "venv_DS_PythonPractice",
   "language": "python",
   "name": "python3"
  },
  "language_info": {
   "codemirror_mode": {
    "name": "ipython",
    "version": 3
   },
   "file_extension": ".py",
   "mimetype": "text/x-python",
   "name": "python",
   "nbconvert_exporter": "python",
   "pygments_lexer": "ipython3",
   "version": "3.13.0"
  }
 },
 "nbformat": 4,
 "nbformat_minor": 2
}
