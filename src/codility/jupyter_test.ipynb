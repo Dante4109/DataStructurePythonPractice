{
 "cells": [
  {
   "cell_type": "code",
   "execution_count": 8,
   "metadata": {},
   "outputs": [],
   "source": [
    "\n",
    "\n",
    "# This is a demo task.\n",
    "\n",
    "# Write a function:\n",
    "\n",
    "#     def solution(A)\n",
    "\n",
    "# that, given an array A of N integers, returns the smallest positive integer (greater than 0) that does not occur in A.\n",
    "\n",
    "# For example, given A = [1, 3, 6, 4, 1, 2], the function should return 5.\n",
    "\n",
    "# Given A = [1, 2, 3], the function should return 4.\n",
    "\n",
    "# Given A = [−1, −3], the function should return 1.\n",
    "\n",
    "# Write an efficient algorithm for the following assumptions:\n",
    "\n",
    "#         N is an integer within the range [1..100,000];\n",
    "#         each element of array A is an integer within the range [−1,000,000..1,000,000].\n",
    "\n"
   ]
  },
  {
   "cell_type": "code",
   "execution_count": 16,
   "metadata": {},
   "outputs": [],
   "source": [
    "A = [1, 3, 6, 4, 1, 2]"
   ]
  },
  {
   "cell_type": "code",
   "execution_count": 20,
   "metadata": {},
   "outputs": [
    {
     "name": "stdout",
     "output_type": "stream",
     "text": [
      "1\n",
      "3\n",
      "6\n",
      "4\n",
      "1\n",
      "2\n"
     ]
    }
   ],
   "source": [
    "\n",
    "i = 0\n",
    "for i in A:\n",
    "  \n",
    "  \n",
    "  print(i)"
   ]
  },
  {
   "cell_type": "code",
   "execution_count": 23,
   "metadata": {},
   "outputs": [
    {
     "name": "stdout",
     "output_type": "stream",
     "text": [
      "5\n"
     ]
    }
   ],
   "source": [
    "positive_set = set(A)\n",
    "smallest = 1\n",
    "while smallest in positive_set:\n",
    "  smallest += 1\n",
    "print(smallest)"
   ]
  },
  {
   "cell_type": "code",
   "execution_count": 40,
   "metadata": {},
   "outputs": [],
   "source": [
    "A = [9, 16, 4]"
   ]
  },
  {
   "cell_type": "code",
   "execution_count": 25,
   "metadata": {},
   "outputs": [],
   "source": [
    "# Steps\n",
    "# Create an empty list of created products.\n",
    "# Create a pointer to indicate where we are in the array loop. \n",
    "# Remove an element from the array using the pointer. \n",
    "# Multiply the remaining elements.\n",
    "# Repeat this proccess until we are finish traversing the array. "
   ]
  },
  {
   "cell_type": "code",
   "execution_count": null,
   "metadata": {},
   "outputs": [],
   "source": [
    "def removeElementByIndex(i: int, A: list) -> int:\n",
    "    return "
   ]
  },
  {
   "cell_type": "code",
   "execution_count": 48,
   "metadata": {},
   "outputs": [
    {
     "name": "stdout",
     "output_type": "stream",
     "text": [
      "[16, 4]\n",
      "[16]\n"
     ]
    },
    {
     "ename": "IndexError",
     "evalue": "pop index out of range",
     "output_type": "error",
     "traceback": [
      "\u001b[1;31m---------------------------------------------------------------------------\u001b[0m",
      "\u001b[1;31mIndexError\u001b[0m                                Traceback (most recent call last)",
      "Cell \u001b[1;32mIn[48], line 9\u001b[0m\n\u001b[0;32m      7\u001b[0m TempA \u001b[38;5;241m=\u001b[39m A\n\u001b[0;32m      8\u001b[0m \u001b[38;5;66;03m# remove element by index\u001b[39;00m\n\u001b[1;32m----> 9\u001b[0m \u001b[43mTempA\u001b[49m\u001b[38;5;241;43m.\u001b[39;49m\u001b[43mpop\u001b[49m\u001b[43m(\u001b[49m\u001b[43mi\u001b[49m\u001b[43m)\u001b[49m\n\u001b[0;32m     11\u001b[0m \u001b[38;5;66;03m# iterate through temp array\u001b[39;00m\n\u001b[0;32m     12\u001b[0m \u001b[38;5;28mprint\u001b[39m(TempA)\n",
      "\u001b[1;31mIndexError\u001b[0m: pop index out of range"
     ]
    }
   ],
   "source": [
    "A = [9, 16, 4]\n",
    "\n",
    "\n",
    "\n",
    "for i in range(len(A)):\n",
    "  print(i)\n",
    "  # Create a temp array\n",
    "  TempA = A\n",
    "  # remove element by index\n",
    "  TempA.pop(i)\n",
    "\n",
    "  # iterate through temp array\n",
    "  print(TempA)"
   ]
  },
  {
   "cell_type": "code",
   "execution_count": 46,
   "metadata": {},
   "outputs": [],
   "source": [
    "for index in range(i, len(A)):\n",
    "    print(index)"
   ]
  },
  {
   "cell_type": "code",
   "execution_count": null,
   "metadata": {},
   "outputs": [],
   "source": []
  }
 ],
 "metadata": {
  "kernelspec": {
   "display_name": "Python 3",
   "language": "python",
   "name": "python3"
  },
  "language_info": {
   "codemirror_mode": {
    "name": "ipython",
    "version": 3
   },
   "file_extension": ".py",
   "mimetype": "text/x-python",
   "name": "python",
   "nbconvert_exporter": "python",
   "pygments_lexer": "ipython3",
   "version": "3.13.0"
  }
 },
 "nbformat": 4,
 "nbformat_minor": 2
}
